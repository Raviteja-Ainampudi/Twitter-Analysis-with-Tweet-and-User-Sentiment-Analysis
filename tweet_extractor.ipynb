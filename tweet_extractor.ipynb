{
 "cells": [
  {
   "cell_type": "code",
   "execution_count": 4,
   "metadata": {},
   "outputs": [
    {
     "name": "stdout",
     "output_type": "stream",
     "text": [
      "Total Sample Length -  10\n",
      "10\n",
      "dict_keys(['reply_count', 'lang', 'timestamp_ms', 'favorited', 'in_reply_to_status_id', 'entities', 'place', 'is_quote_status', 'truncated', 'source', 'created_at', 'text', 'id', 'in_reply_to_user_id_str', 'in_reply_to_user_id', 'retweet_count', 'contributors', 'quote_count', 'retweeted', 'coordinates', 'in_reply_to_status_id_str', 'favorite_count', 'geo', 'user', 'id_str', 'filter_level', 'retweeted_status', 'in_reply_to_screen_name'])\n",
      "                                                text lang  country\n",
      "0  RT @SirJadeja: 👉Mughals Ruled For ~300 Years\\n...   en      NaN\n",
      "1  RT @Troll_Modi: Dear Customer, \\nYour Ac XXXXX...   en      NaN\n",
      "2  RT @nationalspeakns: भारत बंद के दौरान हुई हिं...   hi      NaN\n",
      "3  RT @sush091979: Automobile companies registere...   en      NaN\n",
      "4  Lol... If your sudalai has guts let him bring ...   en      NaN\n"
     ]
    },
    {
     "data": {
      "text/plain": [
       "\"\\ntweets = pd.DataFrame()\\ntweets['text'] = map(lambda tweet: tweet['text'], tweets_data)\\ntweets['lang'] = map(lambda tweet: tweet['lang'], tweets_data)\\ntweets['country'] = map(lambda tweet: tweet['place']['country'] if tweet['place'] != None else None, tweets_data)\\nprint(tweets.head())\\ntweets_by_lang = tweets['lang'].value_counts()\\n\\nprint tweets_by_lang.head()\\n\""
      ]
     },
     "execution_count": 4,
     "metadata": {},
     "output_type": "execute_result"
    }
   ],
   "source": [
    "#Import the necessary methods from tweepy library\n",
    "from tweepy.streaming import StreamListener\n",
    "from tweepy import OAuthHandler\n",
    "from tweepy import Stream\n",
    "import json\n",
    "import pandas as pd\n",
    "import matplotlib.pyplot as plt\n",
    "\n",
    "#http://adilmoujahid.com/posts/2014/07/twitter-analytics/\n",
    "\n",
    "#Variables that contains the user credentials to access Twitter API\n",
    "consumer_key = 'OxBsRmIEzLgZxZ3tST24RKpbW'\n",
    "consumer_secret = '9ky8yb408NnxzYutiSHwjmp8ctWN8tsDsJ7xRrSJDMgvrSiXnL'\n",
    "access_token = '980709476318744576-14rWMyK9kzXMFsXir5NRp2mXTojf0pM'\n",
    "access_token_secret = 'JOd2wdA8sakwL6doKvOuMPm0iQhg4U4Izk2zaujkU47hg'\n",
    "\n",
    "#This is a basic listener that just prints received tweets to stdout.\n",
    "with open(\"tweet_extract.txt\", \"w\") as fname:\n",
    "    class StdOutListener(StreamListener):\n",
    "        chunk_counter = 0\n",
    "        def on_data(self, data):\n",
    "                if StdOutListener.chunk_counter < 10:\n",
    "                        fname.write(data)\n",
    "                        StdOutListener.chunk_counter += 1\n",
    "                        return True\n",
    "                else:\n",
    "                    return False\n",
    "\n",
    "        def on_error(self, status):\n",
    "            print (status)\n",
    "\n",
    "\n",
    "    #This handles Twitter authetification and the connection to Twitter Streaming API\n",
    "    l = StdOutListener()\n",
    "    auth = OAuthHandler(consumer_key, consumer_secret)\n",
    "    auth.set_access_token(access_token, access_token_secret)\n",
    "    stream = Stream(auth, l)\n",
    "\n",
    "    #This line filter Twitter Streams to capture data by the keywords: 'python', 'javascript', 'ruby'\n",
    "    #stream.filter(track=['python', 'javascript', 'ruby'])\n",
    "    stream.filter(track=['modi'])\n",
    "    print(\"Total Sample Length - \", (StdOutListener.chunk_counter))\n",
    "\n",
    "\n",
    "tweets_data_path = 'tweet_extract.txt'\n",
    "\n",
    "tweets_data = []\n",
    "tweets_file = open(tweets_data_path, \"r\")\n",
    "for line in tweets_file:\n",
    "    try:\n",
    "        tweet = json.loads(line)\n",
    "        tweets_data.append(tweet)\n",
    "    except:\n",
    "        continue\n",
    "\n",
    "print (len(tweets_data))\n",
    "print(tweets_data[0].keys())\n",
    "\n",
    "# Build DataFrame of tweet texts and languages\n",
    "df = pd.DataFrame(tweets_data, columns=[\"text\",\"lang\",\"country\"])\n",
    "\n",
    "# Print head of DataFrame\n",
    "print(df.head())\n",
    "'''\n",
    "tweets = pd.DataFrame()\n",
    "tweets['text'] = map(lambda tweet: tweet['text'], tweets_data)\n",
    "tweets['lang'] = map(lambda tweet: tweet['lang'], tweets_data)\n",
    "tweets['country'] = map(lambda tweet: tweet['place']['country'] if tweet['place'] != None else None, tweets_data)\n",
    "print(tweets.head())\n",
    "tweets_by_lang = tweets['lang'].value_counts()\n",
    "\n",
    "print tweets_by_lang.head()\n",
    "'''"
   ]
  },
  {
   "cell_type": "code",
   "execution_count": null,
   "metadata": {},
   "outputs": [],
   "source": []
  },
  {
   "cell_type": "code",
   "execution_count": null,
   "metadata": {},
   "outputs": [],
   "source": []
  }
 ],
 "metadata": {
  "kernelspec": {
   "display_name": "Python 3",
   "language": "python",
   "name": "python3"
  },
  "language_info": {
   "codemirror_mode": {
    "name": "ipython",
    "version": 3
   },
   "file_extension": ".py",
   "mimetype": "text/x-python",
   "name": "python",
   "nbconvert_exporter": "python",
   "pygments_lexer": "ipython3",
   "version": "3.5.2"
  }
 },
 "nbformat": 4,
 "nbformat_minor": 2
}
